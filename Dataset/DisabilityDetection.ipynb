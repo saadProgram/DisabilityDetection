{
  "nbformat": 4,
  "nbformat_minor": 0,
  "metadata": {
    "colab": {
      "provenance": []
    },
    "kernelspec": {
      "name": "python3",
      "display_name": "Python 3"
    },
    "language_info": {
      "name": "python"
    }
  },
  "cells": [
    {
      "cell_type": "code",
      "execution_count": 1,
      "metadata": {
        "colab": {
          "base_uri": "https://localhost:8080/"
        },
        "id": "KnKEdofHLQx3",
        "outputId": "550947f2-be44-40a3-d4bd-8ff5497bfc30"
      },
      "outputs": [
        {
          "output_type": "stream",
          "name": "stdout",
          "text": [
            "Found 350 images belonging to 4 classes.\n",
            "Found 89 images belonging to 4 classes.\n",
            "Epoch 1/20\n",
            "10/10 [==============================] - 26s 2s/step - loss: 2.6634 - accuracy: 0.3270 - val_loss: 1.3988 - val_accuracy: 0.1875\n",
            "Epoch 2/20\n",
            "10/10 [==============================] - 21s 2s/step - loss: 1.2742 - accuracy: 0.3742 - val_loss: 1.2640 - val_accuracy: 0.5625\n",
            "Epoch 3/20\n",
            "10/10 [==============================] - 21s 2s/step - loss: 0.9285 - accuracy: 0.6698 - val_loss: 0.8611 - val_accuracy: 0.6406\n",
            "Epoch 4/20\n",
            "10/10 [==============================] - 21s 2s/step - loss: 0.7129 - accuracy: 0.7138 - val_loss: 0.9124 - val_accuracy: 0.5625\n",
            "Epoch 5/20\n",
            "10/10 [==============================] - 22s 2s/step - loss: 0.6212 - accuracy: 0.7799 - val_loss: 0.8492 - val_accuracy: 0.6562\n",
            "Epoch 6/20\n",
            "10/10 [==============================] - 24s 2s/step - loss: 0.4875 - accuracy: 0.8050 - val_loss: 0.7318 - val_accuracy: 0.7344\n",
            "Epoch 7/20\n",
            "10/10 [==============================] - 21s 2s/step - loss: 0.3846 - accuracy: 0.8648 - val_loss: 0.6033 - val_accuracy: 0.8125\n",
            "Epoch 8/20\n",
            "10/10 [==============================] - 24s 2s/step - loss: 0.3020 - accuracy: 0.8962 - val_loss: 0.9691 - val_accuracy: 0.7344\n",
            "Epoch 9/20\n",
            "10/10 [==============================] - 22s 2s/step - loss: 0.2603 - accuracy: 0.8868 - val_loss: 0.9243 - val_accuracy: 0.6875\n",
            "Epoch 10/20\n",
            "10/10 [==============================] - 21s 2s/step - loss: 0.1810 - accuracy: 0.9465 - val_loss: 1.3784 - val_accuracy: 0.6406\n",
            "Epoch 11/20\n",
            "10/10 [==============================] - 23s 2s/step - loss: 0.1117 - accuracy: 0.9717 - val_loss: 1.0499 - val_accuracy: 0.7500\n",
            "Epoch 12/20\n",
            "10/10 [==============================] - 21s 2s/step - loss: 0.0804 - accuracy: 0.9780 - val_loss: 1.1845 - val_accuracy: 0.6875\n",
            "Epoch 13/20\n",
            "10/10 [==============================] - 21s 2s/step - loss: 0.0609 - accuracy: 0.9748 - val_loss: 1.0929 - val_accuracy: 0.7031\n",
            "Epoch 14/20\n",
            "10/10 [==============================] - 22s 2s/step - loss: 0.0835 - accuracy: 0.9811 - val_loss: 1.4156 - val_accuracy: 0.7969\n",
            "Epoch 15/20\n",
            "10/10 [==============================] - 21s 2s/step - loss: 0.0786 - accuracy: 0.9717 - val_loss: 1.2480 - val_accuracy: 0.7188\n",
            "Epoch 16/20\n",
            "10/10 [==============================] - 22s 2s/step - loss: 0.0719 - accuracy: 0.9906 - val_loss: 1.3433 - val_accuracy: 0.6406\n",
            "Epoch 17/20\n",
            "10/10 [==============================] - 21s 2s/step - loss: 0.0564 - accuracy: 0.9906 - val_loss: 1.6735 - val_accuracy: 0.7188\n",
            "Epoch 18/20\n",
            "10/10 [==============================] - 21s 2s/step - loss: 0.0462 - accuracy: 0.9874 - val_loss: 1.6648 - val_accuracy: 0.6875\n",
            "Epoch 19/20\n",
            "10/10 [==============================] - 23s 2s/step - loss: 0.0748 - accuracy: 0.9780 - val_loss: 1.7646 - val_accuracy: 0.6406\n",
            "Epoch 20/20\n",
            "10/10 [==============================] - 21s 2s/step - loss: 0.0360 - accuracy: 0.9969 - val_loss: 1.3592 - val_accuracy: 0.6719\n",
            "3/3 [==============================] - 1s 342ms/step - loss: 1.5030 - accuracy: 0.6854\n",
            "Test accuracy: 68.54%\n"
          ]
        },
        {
          "output_type": "stream",
          "name": "stderr",
          "text": [
            "/usr/local/lib/python3.10/dist-packages/keras/src/engine/training.py:3079: UserWarning: You are saving your model as an HDF5 file via `model.save()`. This file format is considered legacy. We recommend using instead the native Keras format, e.g. `model.save('my_model.keras')`.\n",
            "  saving_api.save_model(\n"
          ]
        }
      ],
      "source": [
        "import tensorflow as tf\n",
        "from tensorflow.keras.models import Sequential\n",
        "from tensorflow.keras.layers import Conv2D, MaxPooling2D, Flatten, Dense, Dropout\n",
        "from tensorflow.keras.preprocessing.image import ImageDataGenerator\n",
        "\n",
        "# Define parameters for the image data\n",
        "image_height = 150\n",
        "image_width = 150\n",
        "batch_size = 32\n",
        "num_classes = 4  # Number of disability classes (Deaf, Blind, Handicapped, Injured)\n",
        "num_epochs = 20\n",
        "\n",
        "# Data augmentation and preprocessing for training and testing data\n",
        "train_datagen = ImageDataGenerator(rescale=1./255)\n",
        "test_datagen = ImageDataGenerator(rescale=1./255)\n",
        "\n",
        "# Load training and testing data from directories\n",
        "train_generator = train_datagen.flow_from_directory(\n",
        "    '/content/drive/MyDrive/Datasets/disabilityprojectdata/Dataset/Train',\n",
        "    target_size=(image_height, image_width),\n",
        "    batch_size=batch_size,\n",
        "    class_mode='categorical'\n",
        ")\n",
        "\n",
        "test_generator = test_datagen.flow_from_directory(\n",
        "    '/content/drive/MyDrive/Datasets/disabilityprojectdata/Dataset/Test',\n",
        "    target_size=(image_height, image_width),\n",
        "    batch_size=batch_size,\n",
        "    class_mode='categorical'\n",
        ")\n",
        "\n",
        "# Define the CNN model architecture\n",
        "model = Sequential([\n",
        "    Conv2D(32, (3, 3), activation='relu', input_shape=(image_height, image_width, 3)),\n",
        "    MaxPooling2D(2, 2),\n",
        "    Conv2D(64, (3, 3), activation='relu'),\n",
        "    MaxPooling2D(2, 2),\n",
        "    Conv2D(128, (3, 3), activation='relu'),\n",
        "    MaxPooling2D(2, 2),\n",
        "    Flatten(),\n",
        "    Dense(512, activation='relu'),\n",
        "    Dropout(0.5),\n",
        "    Dense(num_classes, activation='softmax')\n",
        "])\n",
        "\n",
        "# Compile the model\n",
        "model.compile(optimizer='adam', loss='categorical_crossentropy', metrics=['accuracy'])\n",
        "\n",
        "# Train the model\n",
        "model.fit(\n",
        "    train_generator,\n",
        "    steps_per_epoch=train_generator.samples // batch_size,\n",
        "    epochs=num_epochs,\n",
        "    validation_data=test_generator,\n",
        "    validation_steps=test_generator.samples // batch_size\n",
        ")\n",
        "\n",
        "# Evaluate the model on test data\n",
        "loss, accuracy = model.evaluate(test_generator)\n",
        "print(f\"Test accuracy: {accuracy * 100:.2f}%\")\n",
        "\n",
        "# Save the trained model for future use in the Django web app\n",
        "model.save('/content/drive/MyDrive/Datasets/disabilityprojectdata/model_disability_detection.h5')"
      ]
    }
  ]
}